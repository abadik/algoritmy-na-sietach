{
 "cells": [
  {
   "cell_type": "markdown",
   "metadata": {},
   "source": [
    "## Ukážka zjednodušenia si niektorých krokov domácej úlohu 3\n",
    "\n",
    "Zadaná je matica $A$, kde v každom riadku je popísaná jedna činnosť $(i,j): [i \\quad j \\quad a_{ij} \\quad b_{ij} \\quad c_{ij}]$.\n",
    "\n",
    "Importujeme si potrebný modul, danú maticu uložíme do nejakej premennej a vytvoríme ohodnotený digraf pre výpočet najdlhšej cesty."
   ]
  },
  {
   "cell_type": "code",
   "execution_count": null,
   "metadata": {},
   "outputs": [],
   "source": [
    "import networkx as nx\n",
    "\n",
    "A = [[\"s\", 2, 8, 10, 6], [\"s\", 3, 14, 16, 2], [2, 3, 4, 6, 2], [2, \"t\", 12, 14, 2], [3, \"t\", 6, 8, 6]]\n",
    "# Prevod matice na zoznam trojíc (zdroj, ústie, vlastnosti hrany) \n",
    "B = [(r[0], r[1], {\"weight\": -r[3]}) for r in A]\n",
    "# Definicia najskôr prázdneho digrafu\n",
    "D = nx.DiGraph()\n",
    "# Pridanie hrán s váhami do existujúceho digrafu zo zoznamu trojíc\n",
    "D.add_edges_from(B)\n",
    "print(D)"
   ]
  },
  {
   "cell_type": "markdown",
   "metadata": {},
   "source": [
    "### Vykreslenie digrafu (len pre vizuálnu kontrolu):"
   ]
  },
  {
   "cell_type": "code",
   "execution_count": null,
   "metadata": {},
   "outputs": [],
   "source": [
    "import matplotlib.pyplot as plt\n",
    "# Vygenerovanie slovníka (dictionary) značiek pre jednotlivé hrany. key = hrana, value = weight \n",
    "labels = {e: D.edges[e][\"weight\"] for e in D.edges}\n",
    "# Vygenerovanie rozmiestnenia vrcholov a hrán pre obrázok\n",
    "pos = nx.planar_layout(D)\n",
    "nx.draw_networkx(D, pos, with_labels=True)\n",
    "nx.draw_networkx_edge_labels(D, pos, edge_labels=labels)"
   ]
  },
  {
   "cell_type": "markdown",
   "metadata": {},
   "source": [
    "### Nájdenie najkratšej cesty z `s` do `t`:"
   ]
  },
  {
   "cell_type": "code",
   "execution_count": null,
   "metadata": {},
   "outputs": [],
   "source": [
    "nx.single_source_dijkstra(D, source=\"s\", target=\"t\", weight=\"weight\")\n",
    "# (hodnota najkratšej cesty, sekvencia vrcholov najkratšej cesty)"
   ]
  },
  {
   "cell_type": "markdown",
   "metadata": {},
   "source": [
    "### Prevod digrafu s dolnými a hornými medzami:\n",
    "Majme digraf daný maticou $C$, kde každý riadok predstavuje šíp s informáciami porade: zdoj, ústie, dolná medza, horná medza (kapacita)."
   ]
  },
  {
   "cell_type": "code",
   "execution_count": null,
   "metadata": {},
   "outputs": [],
   "source": [
    "C = [[\"s\", 2, 0, 30], [\"s\", 3, 0, 10], [2, 3, 10, float(\"inf\")], [2, \"t\", 2, 30], [3, \"t\", 20, 50]]\n",
    "# Prevod matice reprezentujúcej digraf s dolnými a hornými medzami na digraf len s hornými medzami, najskôr budeme mať prázdnu maticu a postupne pridávať hrany. \n",
    "E = []\n",
    "# Pridanie šípov s nekonečnou kapacitou medzi vrcholmi s a t:\n",
    "E += [(\"s\",\"t\",float(\"inf\")),(\"t\",\"s\",float(\"inf\"))]\n",
    "# Pridanie pôvodných šípov s kapacitami (horná medza - dolná medza)\n",
    "E += [(r[0],r[1],r[3]-r[2]) for r in C]\n",
    "# Pridanie šípov z nového vrchola s' do vštekých vrcholov, do ktorých nejaký šíp vchádza s kapacitou (dolná medza)\n",
    "E += [(\"s'\",r[1],r[2]) for r in C]\n",
    "# Pridanie šípov do nového vrchola t' zo vštekých vrcholov, z ktorých nejaký šíp vychádza s kapacitou (dolná medza)\n",
    "E += [(r[0],\"t'\",r[2]) for r in C]\n",
    "# Sčítanie kapacít duplicitných šípov\n",
    "F = []\n",
    "for a, b, c in E:\n",
    "  # Nájdenie všetkých šípov z rovnakým zdrojom a ústím\n",
    "  sipy = list(filter(lambda x: x[0]==a and x[1]==b, E))\n",
    "  # Súčet ich kapacít\n",
    "  sucet = sum([c for i, j, c in sipy])\n",
    "  F.append((a,b,sucet))\n",
    "# Odstránenie duplicitných šípov\n",
    "F = list(set(F))\n",
    "\n",
    "# Vytvorenie digrafu a jeho vykreslenie (pre vizuálnu kontrolu):\n",
    "G = nx.DiGraph([(i,j,{\"capacity\":c}) for i, j, c in F])\n",
    "labels_G = {e: G.edges[e][\"capacity\"] for e in G.edges}\n",
    "positions = nx.planar_layout(G)\n",
    "nx.draw_networkx(G, positions, with_labels=True)\n",
    "nx.draw_networkx_edge_labels(G, positions, edge_labels=labels_G)"
   ]
  },
  {
   "cell_type": "markdown",
   "metadata": {},
   "source": [
    "### Nájdenie maximálneho toku:"
   ]
  },
  {
   "cell_type": "code",
   "execution_count": null,
   "metadata": {},
   "outputs": [],
   "source": [
    "flow_value, flow_dict = nx.maximum_flow(G, _s=\"s'\", _t=\"t'\", capacity=\"capacity\")\n",
    "print(flow_value)\n",
    "print(flow_dict)"
   ]
  },
  {
   "cell_type": "markdown",
   "metadata": {},
   "source": [
    "Výstup `flow_dict = {key1: {subkey1: value1, subkey2: value2}}` možno čítať ako: z vrchola `key1` do `subkey1` \"preteká\" `value1` jednotiek. \n",
    "\n",
    "Pre test, či sú šípy z `s'` nasýtené, stačí skontrolovať, či hodnota toku je totožná so súčtom kapacít hrán vychádzajúcich z tohto vrchola."
   ]
  },
  {
   "cell_type": "code",
   "execution_count": null,
   "metadata": {},
   "outputs": [],
   "source": [
    "sum([c for i, j, c in F if i == \"s'\"]) == flow_value"
   ]
  }
 ],
 "metadata": {
  "interpreter": {
   "hash": "fe2ea72109ffce7f2f48999977a63d3ae4ab8fd91816d050b1a5435261a43019"
  },
  "kernelspec": {
   "display_name": "Python 3.10.2 64-bit",
   "language": "python",
   "name": "python3"
  },
  "language_info": {
   "codemirror_mode": {
    "name": "ipython",
    "version": 3
   },
   "file_extension": ".py",
   "mimetype": "text/x-python",
   "name": "python",
   "nbconvert_exporter": "python",
   "pygments_lexer": "ipython3",
   "version": "3.10.2"
  },
  "orig_nbformat": 4
 },
 "nbformat": 4,
 "nbformat_minor": 2
}
