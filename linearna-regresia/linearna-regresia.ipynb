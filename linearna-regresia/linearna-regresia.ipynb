{
 "cells": [
  {
   "cell_type": "markdown",
   "metadata": {},
   "source": [
    "# Lineárna regresia\n",
    "\n",
    "Predpokladajme, že sme podpísali kontrakt so spoločnosťou s online obchodom, ktorá predáva oblečenie, ale majú aj konzultácie o štýle a oblečení v kamennom obchode. Zákazníci prídu do obchodu, majú sedenie/stretnutie s osobným stylistom, potom môžu ísť domov a objednať si oblečenie, ktoré chcú, buď cez mobilnú aplikáciu alebo cez web.\n",
    "\n",
    "Spoločnosť sa snaží rozhodnúť, či svoje úsilie zameria na mobilnú aplikáciu alebo na svoju webovú stránku. Najali nás, aby sme im pomohli v tomto rozhodnutí. "
   ]
  },
  {
   "cell_type": "markdown",
   "metadata": {},
   "source": [
    "## Import\n",
    "\n",
    "Na začiatok importujeme zopár potrebných modulov."
   ]
  },
  {
   "cell_type": "code",
   "execution_count": null,
   "metadata": {},
   "outputs": [],
   "source": [
    "import matplotlib.pyplot as plt\n",
    "import numpy as np\n",
    "import pandas as pd\n",
    "import seaborn as sns"
   ]
  },
  {
   "cell_type": "markdown",
   "metadata": {},
   "source": [
    "## Dáta\n",
    "\n",
    "Budeme pracovať s csv súborom od spoločnosti, ktorý obsahuje informácie o zákazníkoch ako napr. email, adresa a farba ich avataru. Tiež obsahuje stĺpce s číselnými hodnotami:\n",
    "\n",
    "- Avg. Session Length: Priemerná dĺžka sedenia/stretnutia v kamennom obchode.\n",
    "- Time on App: Primerný čas strávený v aplikácii v minútach.\n",
    "- Time on Website: Priemerný čas strávený na webstránke v minútach.\n",
    "- Length of Membership: Počet rokov členstva zákazníka.\n",
    "- Year Amount Spent: Priemerná ročná minutá suma zákazníkom."
   ]
  },
  {
   "cell_type": "code",
   "execution_count": null,
   "metadata": {},
   "outputs": [],
   "source": [
    "customers = pd.read_csv(\"Ecommerce Customers\")"
   ]
  },
  {
   "cell_type": "markdown",
   "metadata": {},
   "source": [
    "Skontrolujeme si hlavičku našich dát a tiež nejaké základé informácie."
   ]
  },
  {
   "cell_type": "code",
   "execution_count": null,
   "metadata": {},
   "outputs": [],
   "source": [
    "customers.head()"
   ]
  },
  {
   "cell_type": "code",
   "execution_count": null,
   "metadata": {},
   "outputs": [],
   "source": [
    "customers.describe()"
   ]
  },
  {
   "cell_type": "code",
   "execution_count": null,
   "metadata": {},
   "outputs": [],
   "source": [
    "customers.info()"
   ]
  },
  {
   "cell_type": "markdown",
   "metadata": {},
   "source": [
    "## Analýza dát\n",
    "\n",
    "Pre naše účely budeme ďalej používať len stĺpce s číslenými hodnotami.\n",
    "\n",
    "Pomocou funkcie `jointplot` vieme porovnať dvojice dát a zistiť, či je medzi nimi nejaká korelácia."
   ]
  },
  {
   "cell_type": "code",
   "execution_count": null,
   "metadata": {},
   "outputs": [],
   "source": [
    "sns.jointplot(data=customers, x=\"Time on App\", y=\"Yearly Amount Spent\",kind=\"reg\")"
   ]
  },
  {
   "cell_type": "markdown",
   "metadata": {},
   "source": [
    "Priamka nazačuje či a o akú lineárnu závislosť (koreláciu) ide.\n",
    "\n",
    "Dáta môžeme tiež zoskupiť napr. do šesťuholníkov."
   ]
  },
  {
   "cell_type": "code",
   "execution_count": null,
   "metadata": {},
   "outputs": [],
   "source": [
    "sns.jointplot(data=customers, x=\"Time on App\", y=\"Yearly Amount Spent\",kind=\"hex\")"
   ]
  },
  {
   "cell_type": "markdown",
   "metadata": {},
   "source": [
    "Aby sme nemuseli vykreslovať postupne `jointplot` pre každú dvojicu stĺpcov, existuje funkcia `pairplot`, ktorá vykreslí grafy pre všetky dvojice naraz."
   ]
  },
  {
   "cell_type": "code",
   "execution_count": null,
   "metadata": {},
   "outputs": [],
   "source": [
    "sns.pairplot(data=customers)"
   ]
  },
  {
   "cell_type": "markdown",
   "metadata": {},
   "source": [
    "Môžeme si všimnúť, že Yearly Amount Spent je pomerne silno korelovaná s Length of Membership."
   ]
  },
  {
   "cell_type": "markdown",
   "metadata": {},
   "source": [
    "## Trénovacie a testovacie dáta\n",
    "\n",
    "Naše dáta si rozdelíme na modelovanú premennú $y$ a na vysvetľovacie premenné $X$. Potom tieto dáta rozdelíme na trénovaciu zložku, pomocou ktorej vytvoríme model, a testovaciu zložku, pomocou ktorej zistíme vlastnosti modelu ako napr. presnosť, v pomere 7:3."
   ]
  },
  {
   "cell_type": "code",
   "execution_count": null,
   "metadata": {},
   "outputs": [],
   "source": [
    "y = customers[\"Yearly Amount Spent\"]\n",
    "X = customers[[\"Avg. Session Length\", \"Time on App\",\"Time on Website\",\"Length of Membership\"]]"
   ]
  },
  {
   "cell_type": "code",
   "execution_count": null,
   "metadata": {},
   "outputs": [],
   "source": [
    "from sklearn.model_selection import train_test_split"
   ]
  },
  {
   "cell_type": "code",
   "execution_count": null,
   "metadata": {},
   "outputs": [],
   "source": [
    "X_train, X_test, y_train, y_test = train_test_split(X,y,test_size=0.3)"
   ]
  },
  {
   "cell_type": "markdown",
   "metadata": {},
   "source": [
    "## Trénovanie modelu"
   ]
  },
  {
   "cell_type": "code",
   "execution_count": null,
   "metadata": {},
   "outputs": [],
   "source": [
    "from sklearn.linear_model import LinearRegression"
   ]
  },
  {
   "cell_type": "markdown",
   "metadata": {},
   "source": [
    "Najskôr vytvoríme prázdny model lineárnej regresie."
   ]
  },
  {
   "cell_type": "code",
   "execution_count": null,
   "metadata": {},
   "outputs": [],
   "source": [
    "lm = LinearRegression()"
   ]
  },
  {
   "cell_type": "markdown",
   "metadata": {},
   "source": [
    "Teraz môžeme model fitovať pre naše trénovacie dáta."
   ]
  },
  {
   "cell_type": "code",
   "execution_count": null,
   "metadata": {},
   "outputs": [],
   "source": [
    "lm.fit(X_train,y_train)"
   ]
  },
  {
   "cell_type": "markdown",
   "metadata": {},
   "source": [
    "Vypíšeme si odhadnuté koeficienty."
   ]
  },
  {
   "cell_type": "code",
   "execution_count": null,
   "metadata": {},
   "outputs": [],
   "source": [
    "print(lm.coef_)"
   ]
  },
  {
   "cell_type": "markdown",
   "metadata": {},
   "source": [
    "## Predikcia testovacích dát\n",
    "\n",
    "Poďme otestovať náš natrénovaný model a vyhodnotiť jeho výkonnosť."
   ]
  },
  {
   "cell_type": "code",
   "execution_count": null,
   "metadata": {},
   "outputs": [],
   "source": [
    "predictions = lm.predict(X_test)"
   ]
  },
  {
   "cell_type": "markdown",
   "metadata": {},
   "source": [
    "Graf typu `scatter` nám vie graficky ukázať ako veľmi sa líšia skutočné hodnoty od nami predikovaných."
   ]
  },
  {
   "cell_type": "code",
   "execution_count": null,
   "metadata": {},
   "outputs": [],
   "source": [
    "plt.scatter(y_test,predictions)"
   ]
  },
  {
   "cell_type": "markdown",
   "metadata": {},
   "source": [
    "## Vyhodnotenie modelu\n",
    "\n"
   ]
  },
  {
   "cell_type": "code",
   "execution_count": null,
   "metadata": {},
   "outputs": [],
   "source": [
    "from sklearn import metrics\n",
    "\n",
    "print(\"MAE: \",metrics.mean_absolute_error(y_test, predictions))\n",
    "print(\"MSE: \",metrics.mean_squared_error(y_test, predictions))\n",
    "print(\"RMSE: \",np.sqrt(metrics.mean_squared_error(y_test, predictions)))"
   ]
  },
  {
   "cell_type": "markdown",
   "metadata": {},
   "source": [
    "Náš model sa v priemere líši od skutočných hodnôt o hodnotu RMSE. Vo všeobecnosti sa nedá povedať, či ide o maú alebo veľkú ohdnotu. Vždy je nutné porovnať to s hodnotami, ktoré nadobúda naša modelovaná premenná."
   ]
  },
  {
   "cell_type": "markdown",
   "metadata": {},
   "source": [
    "## Reziduá\n",
    "\n",
    "Dostali sme pomerneveľmi dobrý model, ktorý relatívne dobre fituje dáta. Je nutné sa však uistiť, či je s reziduami všetko v poriadku (mali by mať približne normálne rozdelenie). \n"
   ]
  },
  {
   "cell_type": "code",
   "execution_count": null,
   "metadata": {},
   "outputs": [],
   "source": [
    "sns.displot((y_test-predictions),bins=30, kde=True)"
   ]
  },
  {
   "cell_type": "markdown",
   "metadata": {},
   "source": [
    "## Záver\n",
    "\n",
    "Stále chceme nájsť odpoveď na pôvodnú otázku, či zamerať úsiele na vývoj mobilnej aplikácie alebo webovej stránky. Alebo možno na tom vlastne ani nezáleýí a Length of Membership je to, čo je naozaj dôležité. Pozrime sa na naše koeficienty ešte raz."
   ]
  },
  {
   "cell_type": "code",
   "execution_count": null,
   "metadata": {},
   "outputs": [],
   "source": [
    "coeffecients = pd.DataFrame(lm.coef_,X.columns)\n",
    "coeffecients.columns = ['Coeffecient']\n",
    "print(coeffecients)"
   ]
  },
  {
   "cell_type": "markdown",
   "metadata": {},
   "source": [
    "**Mylíte si, že by sa mala spoločnosť viac zamerať na svoju mobilnú aplikáciu alebo na svoj web?**\n",
    "\n",
    "Je to zložité, existujú dva spôsoby, ako o tom premýšľať: Vyvinúť webovú stránku tak, aby dohnala výkon mobilnej aplikácie, alebo rozvinúť aplikáciu viac, pretože práve to funguje lepšie. Tento druh odpovede skutočne závisí od iných faktorov, ktoré sa dejú v spoločnosti, pravdepodobne by ste chceli preskúmať vzťah medzi dĺžkou členstva a aplikáciou alebo webovou stránkou, než dospejete k záveru!"
   ]
  }
 ],
 "metadata": {
  "interpreter": {
   "hash": "9237ad93a9e67fcff5e571ffedcacc999065f96d58c113d82bef8ef5ae749fac"
  },
  "kernelspec": {
   "display_name": "Python 3.10.2 64-bit",
   "language": "python",
   "name": "python3"
  },
  "language_info": {
   "codemirror_mode": {
    "name": "ipython",
    "version": 3
   },
   "file_extension": ".py",
   "mimetype": "text/x-python",
   "name": "python",
   "nbconvert_exporter": "python",
   "pygments_lexer": "ipython3",
   "version": "3.10.2"
  },
  "orig_nbformat": 4
 },
 "nbformat": 4,
 "nbformat_minor": 2
}
